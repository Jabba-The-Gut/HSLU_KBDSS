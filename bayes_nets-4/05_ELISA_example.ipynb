{
 "cells": [
  {
   "cell_type": "markdown",
   "metadata": {},
   "source": [
    "# Bayesian Networks: ELISA"
   ]
  },
  {
   "cell_type": "markdown",
   "metadata": {},
   "source": [
    "A [GraViz installation](https://graphviz.org/download/) is needed to view the graphic outputs in this notebook"
   ]
  },
  {
   "cell_type": "code",
   "execution_count": 19,
   "metadata": {},
   "outputs": [],
   "source": [
    "import numpy as np\n",
    "import pandas as pd\n",
    "import pyAgrum as gum\n",
    "import pyAgrum.lib.notebook as gnb\n",
    "import util.extensions\n",
    "\n",
    "%matplotlib inline "
   ]
  },
  {
   "cell_type": "markdown",
   "metadata": {},
   "source": [
    "> People are bad at reasoning intuitively about probabilities. \n",
    "> Convince yourself by solving the following exercise.\n",
    "> ELISA is a search test for HIV with sensitivity p(positive|HIV) = 0.99\n",
    "> and specificity p(negative|¬HIV) = 0.98. Guess the probability\n",
    "> p(HIV|positive) of being HIV infected given a positive test result."
   ]
  },
  {
   "cell_type": "code",
   "execution_count": 20,
   "metadata": {},
   "outputs": [],
   "source": [
    "net_name = 'ELISA Example'\n",
    "bn = gum.BayesNet(net_name)"
   ]
  },
  {
   "cell_type": "markdown",
   "metadata": {},
   "source": [
    "## Define Random Variables"
   ]
  },
  {
   "cell_type": "code",
   "execution_count": 21,
   "metadata": {},
   "outputs": [],
   "source": [
    "H = bn.add(gum.LabelizedVariable('HIV','H', 2))\n",
    "E = bn.add(gum.LabelizedVariable('ELISA','E', 2))"
   ]
  },
  {
   "cell_type": "code",
   "execution_count": 22,
   "metadata": {},
   "outputs": [],
   "source": [
    "# HIV (H) is conditional on Postive (P)\n",
    "bn.addArc(H, E)"
   ]
  },
  {
   "cell_type": "markdown",
   "metadata": {},
   "source": [
    "## Define Probability Distribution for each Node"
   ]
  },
  {
   "cell_type": "markdown",
   "metadata": {},
   "source": [
    "[Adult HIV Prevalence in Switzerland:](https://en.wikipedia.org/wiki/List_of_countries_by_HIV/AIDS_adult_prevalence_rate) \n",
    "\n",
    "$P(HIV) = 0.5\\%$"
   ]
  },
  {
   "cell_type": "code",
   "execution_count": 23,
   "metadata": {},
   "outputs": [
    {
     "data": {
      "text/html": [
       "<table style=\"border:1px solid black;\">\n",
       "<tr style='border:1px solid black;color:black;background-color:#808080'><th colspan='2'><center>HIV</center></th></tr>\n",
       "<tr><th style='border:1px solid black;border-bottom-style: double;color:black;background-color:#BBBBBB'><center>0</center></th><th style='border:1px solid black;border-bottom-style: double;color:black;background-color:#BBBBBB'><center>1</center></th></tr>\n",
       "<tr><td style='color:black;background-color:#7ffe64;text-align:right;'>0.9950</td><td style='color:black;background-color:#fe7f64;text-align:right;'>0.0050</td></tr>\n",
       "</table>"
      ],
      "text/plain": [
       "(gum::Potential<double>@0x55c30a7bafe0) <HIV:0> :: 0.995 /<HIV:1> :: 0.005"
      ]
     },
     "execution_count": 23,
     "metadata": {},
     "output_type": "execute_result"
    }
   ],
   "source": [
    "bn.cpt(H).fillWith([0.995, 0.005])"
   ]
  },
  {
   "cell_type": "code",
   "execution_count": 29,
   "metadata": {},
   "outputs": [
    {
     "data": {
      "text/html": [
       "<table style=\"border:1px solid black;\">\n",
       "<tr><th colspan='1'></th><th colspan='2' style='border:1px solid black;color:black;background-color:#808080;'><center>ELISA</center></th></tr>\n",
       "<tr><th style='border:1px solid black;color:black;background-color:#808080'><center>HIV</center></th><th style='border:1px solid black;border-bottom-style: double;color:black;background-color:#BBBBBB'><center>0</center></th><th style='border:1px solid black;border-bottom-style: double;color:black;background-color:#BBBBBB'><center>1</center></th></tr>\n",
       "<tr><th style='border:1px solid black;color:black;background-color:#BBBBBB'><center>0</center></th><td style='color:black;background-color:#81fc64;text-align:right;'>0.9800</td><td style='color:black;background-color:#fc8164;text-align:right;'>0.0200</td></tr>\n",
       "<tr><th style='border:1px solid black;color:black;background-color:#BBBBBB'><center>1</center></th><td style='color:black;background-color:#fd8064;text-align:right;'>0.0100</td><td style='color:black;background-color:#80fd64;text-align:right;'>0.9900</td></tr>\n",
       "</table>"
      ],
      "text/plain": [
       "(gum::Potential<double>@0x55c30aca1f10) <ELISA:0|HIV:0> :: 0.98 /<ELISA:1|HIV:0> :: 0.02 /<ELISA:0|HIV:1> :: 0.01 /<ELISA:1|HIV:1> :: 0.99"
      ]
     },
     "execution_count": 29,
     "metadata": {},
     "output_type": "execute_result"
    }
   ],
   "source": [
    "bn.cpt(E)[{'HIV': 1}] = [0.01, 0.99]\n",
    "bn.cpt(E)[{'HIV': 0}] = [0.98, 0.02]\n",
    "bn.cpt(E)"
   ]
  },
  {
   "cell_type": "markdown",
   "metadata": {},
   "source": [
    "## Display Bayesian Network"
   ]
  },
  {
   "cell_type": "code",
   "execution_count": 30,
   "metadata": {},
   "outputs": [
    {
     "name": "stdout",
     "output_type": "stream",
     "text": [
      "BN{nodes: 2, arcs: 1, domainSize: 4, dim: 6}\n"
     ]
    }
   ],
   "source": [
    "print(bn)"
   ]
  },
  {
   "cell_type": "code",
   "execution_count": 31,
   "metadata": {},
   "outputs": [
    {
     "data": {
      "image/png": "[encoded data removed]",
      "text/plain": [
       "<IPython.core.display.Image object>"
      ]
     },
     "execution_count": 31,
     "metadata": {},
     "output_type": "execute_result"
    }
   ],
   "source": [
    "bn.display()"
   ]
  },
  {
   "cell_type": "code",
   "execution_count": 32,
   "metadata": {},
   "outputs": [
    {
     "data": {
      "application/vnd.jupyter.widget-view+json": {
       "model_id": "56a2e4c5178d41838966114ed2c55517",
       "version_major": 2,
       "version_minor": 0
      },
      "text/plain": [
       "HBox(children=(HTML(value='<table style=\"border:1px solid black;\">\\n<tr style=\\'border:1px solid black;color:b…"
      ]
     },
     "metadata": {},
     "output_type": "display_data"
    }
   ],
   "source": [
    "bn.display_tables()"
   ]
  },
  {
   "cell_type": "markdown",
   "metadata": {},
   "source": [
    "## Inference"
   ]
  },
  {
   "cell_type": "code",
   "execution_count": 33,
   "metadata": {},
   "outputs": [],
   "source": [
    "# Enables exact inference\n",
    "ie = gum.LazyPropagation(bn)"
   ]
  },
  {
   "cell_type": "markdown",
   "metadata": {},
   "source": [
    "### 1/ Global Probability Distribution\n",
    "\n",
    "It follows from the Bayesian network structure that\n",
    "\n",
    "$p(HIV, ELISA) = p(ELISA | HIV) \\cdot p(HIV)$\n",
    "\n",
    "Note, calculating the global distribution takes exponential time and space - do not do this for larger examples!"
   ]
  },
  {
   "cell_type": "code",
   "execution_count": 34,
   "metadata": {},
   "outputs": [
    {
     "data": {
      "text/html": [
       "<table style=\"border:1px solid black;\">\n",
       "<tr><th colspan='1'></th><th colspan='2' style='border:1px solid black;color:black;background-color:#808080;'><center>HIV</center></th></tr>\n",
       "<tr><th style='border:1px solid black;color:black;background-color:#808080'><center>ELISA</center></th><th style='border:1px solid black;border-bottom-style: double;color:black;background-color:#BBBBBB'><center>0</center></th><th style='border:1px solid black;border-bottom-style: double;color:black;background-color:#BBBBBB'><center>1</center></th></tr>\n",
       "<tr><th style='border:1px solid black;color:black;background-color:#BBBBBB'><center>0</center></th><td style='color:black;background-color:#82fb64;text-align:right;'>0.9751</td><td style='color:black;background-color:#fe7f64;text-align:right;'>0.0001</td></tr>\n",
       "<tr><th style='border:1px solid black;color:black;background-color:#BBBBBB'><center>1</center></th><td style='color:black;background-color:#fc8164;text-align:right;'>0.0199</td><td style='color:black;background-color:#fe7f64;text-align:right;'>0.0050</td></tr>\n",
       "</table>"
      ],
      "text/plain": [
       "(gum::Potential<double>@0x55c30aa57060) <HIV:0|ELISA:0> :: 0.9751 /<HIV:1|ELISA:0> :: 5e-05 /<HIV:0|ELISA:1> :: 0.0199 /<HIV:1|ELISA:1> :: 0.00495"
      ]
     },
     "execution_count": 34,
     "metadata": {},
     "output_type": "execute_result"
    }
   ],
   "source": [
    "ie.addJointTarget(bn.nodes())\n",
    "ie.makeInference()\n",
    "glob = ie.jointPosterior(bn.nodes())\n",
    "glob"
   ]
  },
  {
   "cell_type": "markdown",
   "metadata": {},
   "source": [
    "### 3/ Conditional Distribution"
   ]
  },
  {
   "cell_type": "markdown",
   "metadata": {},
   "source": [
    "Calculate the probability of HIV given a positive ELISA test"
   ]
  },
  {
   "cell_type": "markdown",
   "metadata": {},
   "source": [
    "$p(HIV | ELISA) = \\frac{p(ELISA | HIV) \\cdot p(HIV)}{p(ELISA)}$"
   ]
  },
  {
   "cell_type": "code",
   "execution_count": 35,
   "metadata": {},
   "outputs": [
    {
     "data": {
      "text/html": [
       "<table style=\"border:1px solid black;\">\n",
       "<tr style='border:1px solid black;color:black;background-color:#808080'><th colspan='2'><center>HIV</center></th></tr>\n",
       "<tr><th style='border:1px solid black;border-bottom-style: double;color:black;background-color:#BBBBBB'><center>0</center></th><th style='border:1px solid black;border-bottom-style: double;color:black;background-color:#BBBBBB'><center>1</center></th></tr>\n",
       "<tr><td style='color:black;background-color:#98e564;text-align:right;'>0.8008</td><td style='color:black;background-color:#e59864;text-align:right;'>0.1992</td></tr>\n",
       "</table>"
      ],
      "text/plain": [
       "(gum::Potential<double>@0x55c309b59110) <HIV:0> :: 0.800805 /<HIV:1> :: 0.199195"
      ]
     },
     "execution_count": 35,
     "metadata": {},
     "output_type": "execute_result"
    }
   ],
   "source": [
    "target = H\n",
    "ie.addTarget(target)\n",
    "ie.setEvidence({'ELISA' : 1}) # Positive ELISA test\n",
    "ie.makeInference()\n",
    "ie.posterior(target)"
   ]
  },
  {
   "cell_type": "markdown",
   "metadata": {},
   "source": [
    "Let us verify this result by hand: It follows from the Bayesian network structure and bayes theorem, that\n",
    "\n",
    "$p(HIV | ELISA) = \\frac{p(ELISA | HIV) \\cdot p(HIV)}{p(ELISA)} = \\frac{p(ELISA | HIV) \\cdot p(HIV)}{\\sum_{HIV} p(ELISA | HIV) \\cdot p(HIV)}\n",
    "= \\frac{0.99 \\cdot 0.005}{0.99 \\cdot 0.005 + 0.02 \\cdot 0.995}$"
   ]
  },
  {
   "cell_type": "code",
   "execution_count": 36,
   "metadata": {},
   "outputs": [
    {
     "name": "stdout",
     "output_type": "stream",
     "text": [
      "numerator:\t 0.004950\n",
      "denominator:\t 0.024850\n",
      "result:\t\t 0.199195\n"
     ]
    }
   ],
   "source": [
    "numerator = (0.99 * 0.005)\n",
    "print(\"numerator:\\t {:.6f}\".format(numerator))\n",
    "\n",
    "denominator = (0.99 * 0.005 +\n",
    "               0.02 * 0.995)\n",
    "               \n",
    "print(\"denominator:\\t {:.6f}\".format(denominator))\n",
    "\n",
    "result = numerator / denominator\n",
    "\n",
    "# Compare visually\n",
    "print(\"result:\\t\\t {:.6f}\".format(result))\n",
    "\n",
    "# Compare automatically\n",
    "assert np.isclose(result, ie.posterior(H)[1])"
   ]
  },
  {
   "cell_type": "markdown",
   "metadata": {},
   "source": [
    "#### Recalculation for Botswana with $p(HIV) = 40\\%$"
   ]
  },
  {
   "cell_type": "code",
   "execution_count": 37,
   "metadata": {},
   "outputs": [
    {
     "data": {
      "text/html": [
       "<table style=\"border:1px solid black;\">\n",
       "<tr style='border:1px solid black;color:black;background-color:#808080'><th colspan='2'><center>HIV</center></th></tr>\n",
       "<tr><th style='border:1px solid black;border-bottom-style: double;color:black;background-color:#BBBBBB'><center>0</center></th><th style='border:1px solid black;border-bottom-style: double;color:black;background-color:#BBBBBB'><center>1</center></th></tr>\n",
       "<tr><td style='color:black;background-color:#b2cb64;text-align:right;'>0.6000</td><td style='color:black;background-color:#cbb264;text-align:right;'>0.4000</td></tr>\n",
       "</table>"
      ],
      "text/plain": [
       "(gum::Potential<double>@0x55c30a7bafe0) <HIV:0> :: 0.6 /<HIV:1> :: 0.4"
      ]
     },
     "execution_count": 37,
     "metadata": {},
     "output_type": "execute_result"
    }
   ],
   "source": [
    "bn.cpt(H).fillWith([0.60, 0.40])"
   ]
  },
  {
   "cell_type": "code",
   "execution_count": 38,
   "metadata": {},
   "outputs": [
    {
     "data": {
      "text/html": [
       "<table style=\"border:1px solid black;\">\n",
       "<tr style='border:1px solid black;color:black;background-color:#808080'><th colspan='2'><center>HIV</center></th></tr>\n",
       "<tr><th style='border:1px solid black;border-bottom-style: double;color:black;background-color:#BBBBBB'><center>0</center></th><th style='border:1px solid black;border-bottom-style: double;color:black;background-color:#BBBBBB'><center>1</center></th></tr>\n",
       "<tr><td style='color:black;background-color:#fb8264;text-align:right;'>0.0294</td><td style='color:black;background-color:#82fb64;text-align:right;'>0.9706</td></tr>\n",
       "</table>"
      ],
      "text/plain": [
       "(gum::Potential<double>@0x55c30ac075b0) <HIV:0> :: 0.0294118 /<HIV:1> :: 0.970588"
      ]
     },
     "execution_count": 38,
     "metadata": {},
     "output_type": "execute_result"
    }
   ],
   "source": [
    "target = H\n",
    "ie.addTarget(target)\n",
    "ie.setEvidence({'ELISA' : 1}) # Positive ELISA test\n",
    "ie.makeInference()\n",
    "ie.posterior(target)"
   ]
  },
  {
   "cell_type": "markdown",
   "metadata": {},
   "source": [
    "#### Interpretation\n",
    "\n",
    "Intuitively we would think, that if a test like ELISA with high sensitivity and specificity returns positive, then the probability of that result being correct should be high. But depending on the prior probability of HIV the probability of having HIV with a positive ELISA can either be pretty low (Switzerland) or rather high (Botswana). This also explains why the same test cannot be used in different parts of the world."
   ]
  },
  {
   "cell_type": "code",
   "execution_count": null,
   "metadata": {},
   "outputs": [],
   "source": []
  }
 ],
 "metadata": {
  "kernelspec": {
   "display_name": "Python 3",
   "language": "python",
   "name": "python3"
  },
  "language_info": {
   "codemirror_mode": {
    "name": "ipython",
    "version": 3
   },
   "file_extension": ".py",
   "mimetype": "text/x-python",
   "name": "python",
   "nbconvert_exporter": "python",
   "pygments_lexer": "ipython3",
   "version": "3.8.4"
  }
 },
 "nbformat": 4,
 "nbformat_minor": 4
}

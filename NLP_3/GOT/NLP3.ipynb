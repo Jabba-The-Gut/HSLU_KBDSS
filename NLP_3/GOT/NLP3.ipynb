{
 "cells": [
  {
   "cell_type": "code",
   "execution_count": 1,
   "metadata": {},
   "outputs": [],
   "source": [
    "from __future__ import absolute_import, division, print_function"
   ]
  },
  {
   "cell_type": "code",
   "execution_count": 2,
   "metadata": {},
   "outputs": [],
   "source": [
    "import codecs\n",
    "import glob\n",
    "import logging\n",
    "import multiprocessing\n",
    "import os\n",
    "import pprint\n",
    "import re"
   ]
  },
  {
   "cell_type": "code",
   "execution_count": 3,
   "metadata": {},
   "outputs": [],
   "source": [
    "import nltk\n",
    "import gensim.models.word2vec as w2v\n",
    "import pyemd\n",
    "import sklearn.manifold\n",
    "import numpy as np\n",
    "import matplotlib.pyplot as plt\n",
    "import pandas as pd\n",
    "import seaborn as sns"
   ]
  },
  {
   "cell_type": "code",
   "execution_count": 4,
   "metadata": {},
   "outputs": [],
   "source": [
    "# load model that was trained on game of thrones texts\n",
    "model = w2v.Word2Vec.load(os.path.join(\"trained\", \"thrones2vec.w2v\"))\n",
    "model.init_sims(replace=True)  # Normalizes the vectors in the word2vec class."
   ]
  },
  {
   "cell_type": "markdown",
   "metadata": {},
   "source": [
    "### 1. How similar are Jon and Ygritte?"
   ]
  },
  {
   "cell_type": "code",
   "execution_count": 5,
   "metadata": {},
   "outputs": [
    {
     "name": "stdout",
     "output_type": "stream",
     "text": [
      "0.48659086\n"
     ]
    }
   ],
   "source": [
    "similarity = model.wv.similarity('Jon', 'Ygritte')\n",
    "print(similarity)"
   ]
  },
  {
   "cell_type": "markdown",
   "metadata": {},
   "source": [
    "### 2. How is the vector belonging to Arryn?"
   ]
  },
  {
   "cell_type": "code",
   "execution_count": 6,
   "metadata": {},
   "outputs": [
    {
     "name": "stdout",
     "output_type": "stream",
     "text": [
      "[-0.01469609 -0.01870064  0.00286698  0.01030971  0.02960225 -0.02744818\n",
      "  0.12517227 -0.02118741 -0.13647068 -0.04760603 -0.12707925  0.00715759\n",
      " -0.0054912   0.05535377 -0.01585171  0.02002882  0.04695092  0.09241706\n",
      "  0.1592071  -0.01193847  0.06620072  0.13318054  0.02164732  0.03038366\n",
      " -0.04416957  0.00701623  0.09999735  0.046404   -0.1842647  -0.06748864\n",
      "  0.09876959  0.03758797 -0.0181614   0.10053652 -0.06677622  0.03171169\n",
      " -0.04700651  0.06748702  0.09795566  0.00152255 -0.00489614 -0.04338976\n",
      " -0.0698354  -0.04931755  0.05762957 -0.10345491  0.2804395  -0.047584\n",
      " -0.09496349  0.06687651 -0.01357711 -0.01454128  0.04770575  0.00921317\n",
      "  0.04886694 -0.12852019 -0.11238892 -0.02678008  0.02497888  0.00156062\n",
      " -0.03111726 -0.0035953  -0.02448412  0.05166761 -0.02331869 -0.02948372\n",
      " -0.00856869  0.04969957 -0.07718022  0.18119842  0.08662686  0.11081731\n",
      "  0.05523402 -0.01554356  0.07017405 -0.00403981 -0.0134454   0.12592413\n",
      "  0.0324575  -0.05763303  0.03153999 -0.02230665 -0.01590923 -0.09640553\n",
      "  0.01125163  0.14090481  0.16262649  0.06646267 -0.01187681  0.01617015\n",
      "  0.03854176 -0.03858472 -0.06777275  0.0358014  -0.03762844 -0.06615566\n",
      " -0.05519748 -0.04550655  0.00165467  0.0880364   0.05546631  0.06297407\n",
      "  0.09918293  0.09244608 -0.07552084  0.01216311 -0.0543728  -0.02925519\n",
      " -0.04267761 -0.04480777 -0.03898714  0.09318482 -0.17221847  0.00544412\n",
      " -0.14006217 -0.00743722  0.15020221 -0.00858866  0.03563784  0.03418618\n",
      "  0.05114263  0.11480822  0.01552478 -0.1821202   0.10058825  0.01750812\n",
      " -0.05234622 -0.04420818  0.04551254  0.06283395  0.15794528  0.00706956\n",
      " -0.02914247 -0.00368305 -0.08493008 -0.04696902  0.0284156  -0.02361745\n",
      "  0.05579101  0.01118632  0.05681106 -0.02146536  0.02167283 -0.0038828\n",
      "  0.09952243  0.0694692  -0.02906785  0.00895729 -0.05690279 -0.05450579\n",
      "  0.06911196  0.14451176 -0.0551563  -0.03133985 -0.00443479 -0.04065338\n",
      " -0.06014432  0.1106118   0.12222315  0.00454738  0.00486748  0.04744982\n",
      "  0.06542434 -0.0917627   0.02848024  0.0465588  -0.03743747 -0.03040451\n",
      " -0.00801586 -0.06334396  0.04607641  0.01800133 -0.02693283 -0.04044809\n",
      " -0.08995277 -0.08329322 -0.02666041 -0.03802654 -0.07225879 -0.03423307\n",
      " -0.00168698 -0.0005881  -0.06589375  0.01394292  0.01889891  0.00420474\n",
      " -0.04190025 -0.08214949  0.05763249 -0.10065229  0.04560122  0.07118352\n",
      "  0.0301813  -0.05271326 -0.03131219  0.06119963  0.04194918 -0.08152441\n",
      " -0.11014428 -0.0932056 ]\n"
     ]
    },
    {
     "name": "stderr",
     "output_type": "stream",
     "text": [
      "/Users/jabbathegut/.local/share/virtualenvs/HSLU_KBDSS-d1D4YtED/lib/python3.7/site-packages/ipykernel_launcher.py:1: DeprecationWarning: Call to deprecated `__getitem__` (Method will be removed in 4.0.0, use self.wv.__getitem__() instead).\n",
      "  \"\"\"Entry point for launching an IPython kernel.\n"
     ]
    }
   ],
   "source": [
    "print(model['Arryn'])"
   ]
  },
  {
   "cell_type": "markdown",
   "metadata": {},
   "source": [
    "### 3. Which 7 words are most similar to Lannister?"
   ]
  },
  {
   "cell_type": "code",
   "execution_count": 7,
   "metadata": {},
   "outputs": [
    {
     "name": "stdout",
     "output_type": "stream",
     "text": [
      "[('Tywin', 0.5470272302627563), ('Jaime', 0.5155178904533386), ('Cersei', 0.4461791217327118), ('Kevan', 0.4454025626182556), ('combatant', 0.44323650002479553), ('Tyrion', 0.43608835339546204), ('ESTREN', 0.43334129452705383)]\n"
     ]
    }
   ],
   "source": [
    "print(model.wv.most_similar('Lannister', topn = 7))"
   ]
  },
  {
   "cell_type": "markdown",
   "metadata": {},
   "source": [
    "### 4. What makes Stark + Winterfell - Dragons?"
   ]
  },
  {
   "cell_type": "code",
   "execution_count": 8,
   "metadata": {},
   "outputs": [
    {
     "name": "stdout",
     "output_type": "stream",
     "text": [
      "[('Eddard', 0.6198489665985107)]\n"
     ]
    }
   ],
   "source": [
    "print(model.wv.most_similar(positive=['Stark', 'Winterfell'], negative=['Dragons'], topn=1))"
   ]
  },
  {
   "cell_type": "markdown",
   "metadata": {},
   "source": [
    "### 5. What does not match: \"Winterfell, Riverrun, Jaime\" ?"
   ]
  },
  {
   "cell_type": "code",
   "execution_count": 9,
   "metadata": {},
   "outputs": [
    {
     "name": "stdout",
     "output_type": "stream",
     "text": [
      "Jaime\n"
     ]
    },
    {
     "name": "stderr",
     "output_type": "stream",
     "text": [
      "/Users/jabbathegut/.local/share/virtualenvs/HSLU_KBDSS-d1D4YtED/lib/python3.7/site-packages/gensim/models/keyedvectors.py:877: FutureWarning: arrays to stack must be passed as a \"sequence\" type such as list or tuple. Support for non-sequence iterables such as generators is deprecated as of NumPy 1.16 and will raise an error in the future.\n",
      "  vectors = vstack(self.word_vec(word, use_norm=True) for word in used_words).astype(REAL)\n"
     ]
    }
   ],
   "source": [
    "print(model.wv.doesnt_match('Winterfell Riverrun Jaime'.split()))"
   ]
  },
  {
   "cell_type": "markdown",
   "metadata": {},
   "source": [
    "### 6. How similar are the following sentences: \"Hodor That was all he ever said\", \"Hold the door\" ?"
   ]
  },
  {
   "cell_type": "code",
   "execution_count": 10,
   "metadata": {},
   "outputs": [
    {
     "name": "stdout",
     "output_type": "stream",
     "text": [
      "1.2611392511302566\n"
     ]
    }
   ],
   "source": [
    "sentence1 = 'Hodor That was all he ever said'.lower().split()\n",
    "sentence2 = 'Hold the door'.lower().split()\n",
    "similarity = model.wv.wmdistance(sentence1, sentence2)\n",
    "print(similarity)"
   ]
  },
  {
   "cell_type": "code",
   "execution_count": null,
   "metadata": {},
   "outputs": [],
   "source": []
  }
 ],
 "metadata": {
  "kernelspec": {
   "display_name": "Python 3",
   "language": "python",
   "name": "python3"
  },
  "language_info": {
   "codemirror_mode": {
    "name": "ipython",
    "version": 3
   },
   "file_extension": ".py",
   "mimetype": "text/x-python",
   "name": "python",
   "nbconvert_exporter": "python",
   "pygments_lexer": "ipython3",
   "version": "3.7.6"
  }
 },
 "nbformat": 4,
 "nbformat_minor": 4
}
